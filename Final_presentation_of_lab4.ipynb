{
 "cells": [
  {
   "cell_type": "code",
   "execution_count": 1,
   "metadata": {},
   "outputs": [
    {
     "name": "stdout",
     "output_type": "stream",
     "text": [
      "WARNING:tensorflow:From c:\\Users\\asent\\AppData\\Local\\Programs\\Python\\Python310\\lib\\site-packages\\keras\\src\\losses.py:2976: The name tf.losses.sparse_softmax_cross_entropy is deprecated. Please use tf.compat.v1.losses.sparse_softmax_cross_entropy instead.\n",
      "\n"
     ]
    }
   ],
   "source": [
    "import os\n",
    "import numpy as np\n",
    "from scipy.io import loadmat\n",
    "import random\n",
    "import time\n",
    "import itertools\n",
    "import cv2 as cv\n",
    "from keras.models import load_model"
   ]
  },
  {
   "cell_type": "code",
   "execution_count": 2,
   "metadata": {},
   "outputs": [],
   "source": [
    "original_path = \"C:/Users/asent/Desktop/S4_Barcelona/FaceDetection/Lab4/\"\n",
    "imgPath     = original_path + \"TRAINING/\"\n",
    "Saving_folder = original_path + \"SAVING/\"\n",
    "model_path = 'model.h5'"
   ]
  },
  {
   "cell_type": "code",
   "execution_count": 3,
   "metadata": {},
   "outputs": [
    {
     "name": "stdout",
     "output_type": "stream",
     "text": [
      "WARNING:tensorflow:From c:\\Users\\asent\\AppData\\Local\\Programs\\Python\\Python310\\lib\\site-packages\\keras\\src\\backend.py:1398: The name tf.executing_eagerly_outside_functions is deprecated. Please use tf.compat.v1.executing_eagerly_outside_functions instead.\n",
      "\n",
      "WARNING:tensorflow:From c:\\Users\\asent\\AppData\\Local\\Programs\\Python\\Python310\\lib\\site-packages\\keras\\src\\layers\\pooling\\max_pooling2d.py:161: The name tf.nn.max_pool is deprecated. Please use tf.nn.max_pool2d instead.\n",
      "\n",
      "The model contain  785633  parameters\n",
      "Size of the model is : 9.04 MB\n"
     ]
    }
   ],
   "source": [
    "# model_path = 'model.h5'\n",
    "model = load_model(model_path)\n",
    "\n",
    "total_params = model.count_params()\n",
    "print(\"The model contain \",total_params, \" parameters\")\n",
    "\n",
    "\n",
    "# Get the size in MB\n",
    "size_model = os.path.getsize(model_path)/ (1024*1024)  \n",
    "print(f\"Size of the model is : {size_model:.2f} MB\")\n",
    "\n",
    "# # Summary to check total params and ensure it's under 1 million\n",
    "# my_FRmodel.summary()"
   ]
  },
  {
   "cell_type": "code",
   "execution_count": 4,
   "metadata": {},
   "outputs": [],
   "source": [
    "def CHALL_AGC_ComputeRecognScores(auto_ids, true_ids):\n",
    "    #   Compute face recognition score\n",
    "    #\n",
    "    #   INPUTS\n",
    "    #     - AutomSTR: The results of the automatic face\n",
    "    #     recognition algorithm, stored as an integer\n",
    "    #\n",
    "    #     - AGC_Challenge_STR: The ground truth ids\n",
    "    #\n",
    "    #   OUTPUT\n",
    "    #     - FR_score:     The final recognition score\n",
    "    #\n",
    "    #   --------------------------------------------------------------------\n",
    "    #   AGC Challenge\n",
    "    #   Universitat Pompeu Fabra\n",
    "    #\n",
    "\n",
    "    if len(auto_ids) != len(true_ids):\n",
    "        assert ('Inputs must be of the same len');\n",
    "\n",
    "    f_beta = 1\n",
    "    res_list = list(filter(lambda x: true_ids[x] != -1, range(len(true_ids))))\n",
    "\n",
    "    nTP = len([i for i in res_list if auto_ids[i] == true_ids[i]])\n",
    "\n",
    "    res_list = list(filter(lambda x: auto_ids[x] != -1, range(len(auto_ids))))\n",
    "\n",
    "    nFP = len([i for i in res_list if auto_ids[i] != true_ids[i]])\n",
    "\n",
    "    res_list_auto_ids = list(filter(lambda x: auto_ids[x] == -1, range(len(auto_ids))))\n",
    "    res_list_true_ids = list(filter(lambda x: true_ids[x] != -1, range(len(true_ids))))\n",
    "\n",
    "    nFN = len(set(res_list_auto_ids).intersection(res_list_true_ids))\n",
    "\n",
    "    FR_score = (1 + f_beta ** 2) * nTP / ((1 + f_beta ** 2) * nTP + f_beta ** 2 * nFN + nFP)\n",
    "\n",
    "    return FR_score,nTP,res_list\n",
    "    "
   ]
  },
  {
   "cell_type": "code",
   "execution_count": 5,
   "metadata": {},
   "outputs": [
    {
     "name": "stdout",
     "output_type": "stream",
     "text": [
      "F1-score: 1.50, Total time:  0 m 0.00 s\n"
     ]
    }
   ],
   "source": [
    "# Basic script for Face Recognition Challenge\n",
    "# --------------------------------------------------------------------\n",
    "# AGC Challenge\n",
    "# Universitat Pompeu Fabra\n",
    "\n",
    "# Load challenge Training data\n",
    "dir_challenge3 = original_path\n",
    "AGC_Challenge3_TRAINING = loadmat(dir_challenge3 + \"AGC_Challenge3_Training.mat\")\n",
    "AGC_Challenge3_TRAINING = np.squeeze(AGC_Challenge3_TRAINING['AGC_Challenge3_TRAINING'])\n",
    "\n",
    "imageName = AGC_Challenge3_TRAINING['imageName']\n",
    "imageName = list(itertools.chain.from_iterable(imageName))\n",
    "\n",
    "ids = list(AGC_Challenge3_TRAINING['id'])\n",
    "ids = np.concatenate(ids).ravel().tolist()\n",
    "\n",
    "faceBox = AGC_Challenge3_TRAINING['faceBox']\n",
    "faceBox = list(itertools.chain.from_iterable(faceBox))\n",
    "\n",
    "\n",
    "# Initialize results structure\n",
    "AutoRecognSTR = []\n",
    "\n",
    "# Initialize timer accumulator\n",
    "total_time = 0\n",
    "\n",
    "# Load your FRModel\n",
    "my_FRmodel = model\n",
    "\n",
    "for idx, im in enumerate(imageName):\n",
    "\n",
    "    image = cv.imread(imgPath + im)\n",
    "        \n",
    "\n",
    "    try:\n",
    "        print(f\"Image number : {idx}\", end='\\r')  \n",
    "        ti = time.time()\n",
    "        # Timer on\n",
    "        ###############################################################\n",
    "        # Your face recognition function goes here.It must accept 2 input parameters:\n",
    "\n",
    "        # 1. the input image A\n",
    "        # 2. the recognition model\n",
    "\n",
    "        # and must return a single integer number as output, which can be:\n",
    "\n",
    "        # a) A number between 1 and 80 (representing one of the identities in the training set)\n",
    "        # b) A \"-1\" indicating that none of the 80 users is present in the input image\n",
    "        \n",
    "        autom_id = my_FRmodel.predict(image)\n",
    "        tt = time.time() - ti\n",
    "        total_time = total_time + tt\n",
    "    except:\n",
    "        # If the face recognition function fails, it will be assumed that no user was detected for his input image\n",
    "        autom_id = random.randint(-1, 80)\n",
    "\n",
    "    AutoRecognSTR.append(autom_id)\n",
    "\n",
    "FR_score ,nTP, res_list= CHALL_AGC_ComputeRecognScores(AutoRecognSTR, ids)\n",
    "_, rem = divmod(total_time, 3600)\n",
    "minutes, seconds = divmod(rem, 60)\n",
    "print('F1-score: %.2f, Total time: %2d m %.2f s' % (100 * FR_score, int(minutes), seconds))\n"
   ]
  },
  {
   "cell_type": "code",
   "execution_count": null,
   "metadata": {},
   "outputs": [],
   "source": []
  }
 ],
 "metadata": {
  "kernelspec": {
   "display_name": "Python 3",
   "language": "python",
   "name": "python3"
  },
  "language_info": {
   "codemirror_mode": {
    "name": "ipython",
    "version": 3
   },
   "file_extension": ".py",
   "mimetype": "text/x-python",
   "name": "python",
   "nbconvert_exporter": "python",
   "pygments_lexer": "ipython3",
   "version": "3.10.8"
  }
 },
 "nbformat": 4,
 "nbformat_minor": 2
}
